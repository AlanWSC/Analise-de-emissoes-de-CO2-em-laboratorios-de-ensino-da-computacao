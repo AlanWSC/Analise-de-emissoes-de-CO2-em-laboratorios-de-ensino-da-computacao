{
 "cells": [
  {
   "cell_type": "code",
   "execution_count": 1,
   "metadata": {},
   "outputs": [],
   "source": [
    "import pandas as pd"
   ]
  },
  {
   "cell_type": "code",
   "execution_count": 45,
   "metadata": {},
   "outputs": [],
   "source": [
    "pd.set_option(\"display.max_rows\", None)\n",
    "pd.set_option(\"display.max_columns\", None)"
   ]
  },
  {
   "cell_type": "markdown",
   "metadata": {},
   "source": [
    "# Planilhas de fator de emissão"
   ]
  },
  {
   "cell_type": "code",
   "execution_count": 12,
   "metadata": {},
   "outputs": [],
   "source": [
    "fator_emissao_marco = pd.read_csv('D:/Backup - Dev/Artigo/Códigos TCC/Planilhas fator de emissão atualizado/Fator_emissão_Março.csv')\n",
    "fator_emissao_abril =  pd.read_csv('D:/Backup - Dev/Artigo/Códigos TCC/Planilhas fator de emissão atualizado/Fator_emissão_Abril.csv')\n",
    "fator_emissao_maio = pd.read_csv('D:/Backup - Dev/Artigo/Códigos TCC/Planilhas fator de emissão atualizado/Fator_emissão_Maio.csv')\n",
    "fator_emissao_junho = pd.read_csv('D:/Backup - Dev/Artigo/Códigos TCC/Planilhas fator de emissão atualizado/Fator_emissão_Junho.csv')"
   ]
  },
  {
   "cell_type": "code",
   "execution_count": 26,
   "metadata": {},
   "outputs": [],
   "source": [
    "fator_emissao_marco.to_csv('D:/Backup - Dev/Artigo/Códigos TCC/Planilhas fator de emissão atualizado/Fator_emissão_Março.csv', index = False)\n",
    "fator_emissao_abril.to_csv('D:/Backup - Dev/Artigo/Códigos TCC/Planilhas fator de emissão atualizado/Fator_emissão_Abril.csv', index = False)\n",
    "fator_emissao_maio.to_csv('D:/Backup - Dev/Artigo/Códigos TCC/Planilhas fator de emissão atualizado/Fator_emissão_Maio.csv', index = False)\n",
    "fator_emissao_junho.to_csv('D:/Backup - Dev/Artigo/Códigos TCC/Planilhas fator de emissão atualizado/Fator_emissão_Junho.csv', index = False)"
   ]
  },
  {
   "cell_type": "markdown",
   "metadata": {},
   "source": [
    "# Planilhas dos laboratórios"
   ]
  },
  {
   "cell_type": "code",
   "execution_count": 16,
   "metadata": {},
   "outputs": [],
   "source": [
    "medicao_final_lab1 = pd.read_csv('D:/Backup - Dev/Artigo/Códigos TCC/Medições Finais/Medição dos computadores - Laboratório 1.csv')\n",
    "medicao_final_lab2 = pd.read_csv('D:/Backup - Dev/Artigo/Códigos TCC/Medições Finais/Medição dos computadores - Laboratório 2.csv')\n",
    "medicao_final_lab3 = pd.read_csv('D:/Backup - Dev/Artigo/Códigos TCC/Medições Finais/Medição dos computadores - Laboratório 3.csv')"
   ]
  },
  {
   "cell_type": "code",
   "execution_count": 49,
   "metadata": {},
   "outputs": [],
   "source": [
    "medicao_final_lab1.to_csv('D:/Backup - Dev/Artigo/Códigos TCC/Medições Finais/Medição dos computadores - Laboratório 1.csv', index = False)\n",
    "medicao_final_lab2.to_csv('D:/Backup - Dev/Artigo/Códigos TCC/Medições Finais/Medição dos computadores - Laboratório 2.csv', index = False)\n",
    "medicao_final_lab3.to_csv('D:/Backup - Dev/Artigo/Códigos TCC/Medições Finais/Medição dos computadores - Laboratório 3.csv', index = False)"
   ]
  },
  {
   "cell_type": "markdown",
   "metadata": {},
   "source": [
    "# Horários de aulas e seus intervalos"
   ]
  },
  {
   "cell_type": "code",
   "execution_count": 17,
   "metadata": {},
   "outputs": [],
   "source": [
    "# Armazena os horários e intervalos das aulas em dicionários\n",
    "intervalos_aulas = [\n",
    "    {\"aula\": \"Aula 1\", \"intervalos\": [((13, 0), (14, 0)), ((14, 0), (14, 40))]},\n",
    "    {\"aula\": \"Aula 2\", \"intervalos\": [((14, 50), (15, 0)), ((15, 0), (16, 0)), ((16, 0), (16, 30))]},\n",
    "    {\"aula\": \"Aula 3\", \"intervalos\": [((16, 40), (17, 0)), ((17, 0), (18, 0)), ((18, 0), (18, 20))]}\n",
    "]"
   ]
  },
  {
   "cell_type": "markdown",
   "metadata": {},
   "source": [
    "# Calcula as emissões de CO2 de cada PC, considerando o consumo de energia(kWh/minuto) e fator de emissão CO2 com base no horário"
   ]
  },
  {
   "cell_type": "code",
   "execution_count": 18,
   "metadata": {},
   "outputs": [],
   "source": [
    "def calcular_emissao_por_aula(intervalos, fator_emissao, medicao_lab, dia):\n",
    "\n",
    "    emissao = {} # Dict para armazenar resultados\n",
    "\n",
    "    for inicio, fim in intervalos: # Percorre os intervalos fornecidos\n",
    "\n",
    "        duracao = (fim[0] * 60 + fim[1]) - (inicio[0] * 60 + inicio[1])  # Calcula a duração dos intervalos em minutos\n",
    "\n",
    "        hora_inicial = inicio[0] # Identifica o fator de emissão para hora inicial\n",
    "        \n",
    "        # Atualização: A partir das colunas 'Hora' e 'Dia' o fator de emissão é encontrado\n",
    "        fator = fator_emissao.loc[(fator_emissao[\"Dia\"] == dia) & (fator_emissao[\"Hora\"] == hora_inicial), \"Fator Emissão\"].values \n",
    "        \n",
    "        fator = fator[0]  # Obtém o valor do fator de emissão\n",
    "        \n",
    "        for _, linha in medicao_lab.iterrows(): # Percorre todas as linhas de medicao_la1(cada linha é um PC)\n",
    "\n",
    "            consumo_por_minuto = linha[\"Consumo em kWh(Por minuto)\"] # Coluna consumo de energia por minuto\n",
    "\n",
    "            consumo_kwh = consumo_por_minuto * duracao # Calcula multiplicando pela duração o consumo total no intervalo\n",
    "\n",
    "            emissao_co2 = consumo_kwh * fator # Calcula o consumo multiplicando pelo fator de emissão correspondente\n",
    "\n",
    "            # Armazena resultados com base no ID do PC\n",
    "            computador_id = int(linha['ID Computador']) # Armazena ID do PC\n",
    "            if computador_id not in emissao: # Verifica se existe o PC no dict \n",
    "                emissao[computador_id] = 0\n",
    "            emissao[computador_id] += emissao_co2 # Acumula emissão calculada\n",
    "    return emissao # Retorna chaves: ID PC e Valores: Emissão CO2 de cada computador"
   ]
  },
  {
   "cell_type": "markdown",
   "metadata": {},
   "source": [
    "# Calcula emissões de CO2 unindo os resultados das emissões por aula"
   ]
  },
  {
   "cell_type": "code",
   "execution_count": 19,
   "metadata": {},
   "outputs": [],
   "source": [
    "def calcular_emissoes(intervalos_aulas, fator_emissao, medicao_lab):\n",
    "\n",
    "    resultados = {} # Dict para armazenar resultados de emissões por dia e aula\n",
    "\n",
    "    dias_disponiveis = fator_emissao[\"Dia\"].unique()  # Atualização: armazena todos os dias da planilha de fator de emissão\n",
    "    \n",
    "    for dia in dias_disponiveis: # Atualização: Itera sobre os dias disponíveis na planilha\n",
    "\n",
    "        resultados[dia] = {} # Atualização: Dict aninhado para armazenar os resultados por das emissões por aula para cada dia\n",
    "\n",
    "        for aula in intervalos_aulas:\n",
    "            # Atualização: Calcula as emissões para cada aula considerando o fator de emissão para o dia correspondente\n",
    "            emissao = calcular_emissao_por_aula(aula[\"intervalos\"], fator_emissao, medicao_lab, dia)\n",
    "            resultados[dia][aula['aula']] = emissao # Armazena os resultados, onde Key1:dia, Key2:aula e Values:Dict{emissão}\n",
    "    \n",
    "    return resultados"
   ]
  },
  {
   "cell_type": "markdown",
   "metadata": {},
   "source": [
    "# Exibe os resultados das emissões para cada dia, aula e PC"
   ]
  },
  {
   "cell_type": "code",
   "execution_count": 20,
   "metadata": {},
   "outputs": [],
   "source": [
    "def exibir_resultados(resultados):\n",
    "    print(\"\\nResultados finais:\")\n",
    "    for dia, aulas in resultados.items():\n",
    "        print(f\"\\nDia {dia}:\")\n",
    "        for aula, emissao in aulas.items():\n",
    "            print(f\"  {aula}:\")\n",
    "            for computador, valor in emissao.items():\n",
    "                print(f\"    Computador {computador}: {valor:.5f} kgCO₂\")"
   ]
  },
  {
   "cell_type": "code",
   "execution_count": 25,
   "metadata": {},
   "outputs": [],
   "source": [
    "fator_emissao_marco = fator_emissao_marco.rename(columns={'Março': 'Fator Emissão'})\n",
    "fator_emissao_abril = fator_emissao_abril.rename(columns={'Abril': 'Fator Emissão'})\n",
    "fator_emissao_maio = fator_emissao_maio.rename(columns={'Maio': 'Fator Emissão'})\n",
    "fator_emissao_junho = fator_emissao_junho.rename(columns={'Junho': 'Fator Emissão'})"
   ]
  },
  {
   "cell_type": "markdown",
   "metadata": {},
   "source": [
    "# Resultados das emissões de Março"
   ]
  },
  {
   "cell_type": "code",
   "execution_count": 31,
   "metadata": {},
   "outputs": [],
   "source": [
    "resultados_emissoes_lab1_marco = calcular_emissoes(intervalos_aulas, fator_emissao_marco, medicao_final_lab1)\n",
    "#exibir_resultados(resultados_emissoes_lab1_marco)"
   ]
  },
  {
   "cell_type": "markdown",
   "metadata": {},
   "source": [
    "Laboratório 2"
   ]
  },
  {
   "cell_type": "code",
   "execution_count": 32,
   "metadata": {},
   "outputs": [],
   "source": [
    "resultados_emissoes_lab2_marco = calcular_emissoes(intervalos_aulas, fator_emissao_marco, medicao_final_lab2)\n",
    "#exibir_resultados(resultados_emissoes_lab2_marco)"
   ]
  },
  {
   "cell_type": "markdown",
   "metadata": {},
   "source": [
    "Laboratório 3"
   ]
  },
  {
   "cell_type": "code",
   "execution_count": 33,
   "metadata": {},
   "outputs": [],
   "source": [
    "resultados_emissoes_lab3_marco = calcular_emissoes(intervalos_aulas, fator_emissao_marco, medicao_final_lab3)\n",
    "#exibir_resultados(resultados_emissoes_lab3_marco)"
   ]
  },
  {
   "cell_type": "markdown",
   "metadata": {},
   "source": [
    "# Resultados das emissões de Abril"
   ]
  },
  {
   "cell_type": "markdown",
   "metadata": {},
   "source": [
    "Laboratório 1"
   ]
  },
  {
   "cell_type": "code",
   "execution_count": 34,
   "metadata": {},
   "outputs": [],
   "source": [
    "resultados_emissoes_lab1_abril = calcular_emissoes(intervalos_aulas, fator_emissao_abril, medicao_final_lab1)\n",
    "#exibir_resultados(resultados_emissoes_lab1_abril)"
   ]
  },
  {
   "cell_type": "markdown",
   "metadata": {},
   "source": [
    "Laboratório 2"
   ]
  },
  {
   "cell_type": "code",
   "execution_count": 35,
   "metadata": {},
   "outputs": [],
   "source": [
    "resultados_emissoes_lab2_abril = calcular_emissoes(intervalos_aulas, fator_emissao_abril, medicao_final_lab2)\n",
    "#exibir_resultados(resultados_emissoes_lab2_abril)"
   ]
  },
  {
   "cell_type": "markdown",
   "metadata": {},
   "source": [
    "Laboratório 3"
   ]
  },
  {
   "cell_type": "code",
   "execution_count": 36,
   "metadata": {},
   "outputs": [],
   "source": [
    "resultados_emissoes_lab3_abril = calcular_emissoes(intervalos_aulas, fator_emissao_abril, medicao_final_lab3)\n",
    "#exibir_resultados(resultados_emissoes_lab3_abril)"
   ]
  },
  {
   "cell_type": "markdown",
   "metadata": {},
   "source": [
    "# Resultados emissões de Maio"
   ]
  },
  {
   "cell_type": "markdown",
   "metadata": {},
   "source": [
    "Laboratório 1"
   ]
  },
  {
   "cell_type": "code",
   "execution_count": 37,
   "metadata": {},
   "outputs": [],
   "source": [
    "resultados_emissoes_lab1_maio = calcular_emissoes(intervalos_aulas, fator_emissao_maio, medicao_final_lab1)\n",
    "#exibir_resultados(resultados_emissoes_lab1_maio)"
   ]
  },
  {
   "cell_type": "markdown",
   "metadata": {},
   "source": [
    "Laboratório 2"
   ]
  },
  {
   "cell_type": "code",
   "execution_count": 38,
   "metadata": {},
   "outputs": [],
   "source": [
    "resultados_emissoes_lab2_maio = calcular_emissoes(intervalos_aulas, fator_emissao_maio, medicao_final_lab2)\n",
    "#exibir_resultados(resultados_emissoes_lab2_maio)"
   ]
  },
  {
   "cell_type": "markdown",
   "metadata": {},
   "source": [
    "Laboratório 3"
   ]
  },
  {
   "cell_type": "code",
   "execution_count": 39,
   "metadata": {},
   "outputs": [],
   "source": [
    "resultados_emissoes_lab3_maio = calcular_emissoes(intervalos_aulas, fator_emissao_maio, medicao_final_lab3)\n",
    "#exibir_resultados(resultados_emissoes_lab3_maio)"
   ]
  },
  {
   "cell_type": "markdown",
   "metadata": {},
   "source": [
    "# Resultados das emissões de junho"
   ]
  },
  {
   "cell_type": "markdown",
   "metadata": {},
   "source": [
    "Laboratório 1"
   ]
  },
  {
   "cell_type": "code",
   "execution_count": 40,
   "metadata": {},
   "outputs": [],
   "source": [
    "resultados_emissoes_lab1_junho = calcular_emissoes(intervalos_aulas, fator_emissao_junho, medicao_final_lab1)\n",
    "#exibir_resultados(resultados_emissoes_lab1_junho)"
   ]
  },
  {
   "cell_type": "markdown",
   "metadata": {},
   "source": [
    "Laboratório 2"
   ]
  },
  {
   "cell_type": "code",
   "execution_count": 41,
   "metadata": {},
   "outputs": [],
   "source": [
    "resultados_emissoes_lab2_junho = calcular_emissoes(intervalos_aulas, fator_emissao_junho, medicao_final_lab2)\n",
    "#exibir_resultados(resultados_emissoes_lab2_junho)"
   ]
  },
  {
   "cell_type": "markdown",
   "metadata": {},
   "source": [
    "Laboratório 3"
   ]
  },
  {
   "cell_type": "code",
   "execution_count": 42,
   "metadata": {},
   "outputs": [],
   "source": [
    "resultados_emissoes_lab3_junho = calcular_emissoes(intervalos_aulas, fator_emissao_junho, medicao_final_lab3)\n",
    "#exibir_resultados(resultados_emissoes_lab3_junho)"
   ]
  },
  {
   "cell_type": "markdown",
   "metadata": {},
   "source": [
    "# Cria planilha nova com todos os resultados"
   ]
  },
  {
   "cell_type": "code",
   "execution_count": 43,
   "metadata": {},
   "outputs": [],
   "source": [
    "def cria_planilha_csv(resultado_labx, nome_arquivo):\n",
    "    \n",
    "    dados = [] # Armazena os dados para transformação em DataFrame\n",
    "    \n",
    "    for dia, aulas in resultado_labx.items(): # Itera sobre dias, aulas e PC no dict\n",
    "        for aula, computadores in aulas.items():\n",
    "            for computador, valor in computadores.items():\n",
    "\n",
    "                dados.append([aula, f\"{int(computador)}\", f\"{dia}\", valor]) # Adiciona os dados de cada PC na lista\n",
    "    \n",
    "    nova_planilha = pd.DataFrame(dados, columns = [\"Horario Aula\", \"PC\", \"Data\", \"Emissao (kgCO₂)\"]) # Cria DataFrame a partir da lista com colunas nomeadas\n",
    "    \n",
    "    nova_planilha[\"PC\"] = nova_planilha[\"PC\"].astype(int) # Converte a coluna 'PC' para inteiro garantindo ordenação\n",
    "    nova_planilha[\"Data\"] = nova_planilha[\"Data\"].astype(int) # Converte a coluna 'Data' para inteiro garantindo ordenação\n",
    "    nova_planilha = nova_planilha.sort_values(by = [\"Horario Aula\", \"PC\"]) # Ordena o DataFrame pelas colunas 'Horario Aula' e 'PC'\n",
    "    \n",
    "    nova_planilha[\"Emissao (kgCO₂)\"] = nova_planilha[\"Emissao (kgCO₂)\"].astype(float).round(5) # Arredonda os valores para 5 casas decimais\n",
    "    \n",
    "    nova_planilha_pivotada = nova_planilha.pivot(index=[\"Horario Aula\", \"PC\"], columns = \"Data\", values = \"Emissao (kgCO₂)\") # Cria uma tabela pivotada organizando os dados\n",
    "\n",
    "    nova_planilha_pivotada.to_csv(nome_arquivo, sep = ',', encoding = 'utf-8') # Salva a tabela criada\n"
   ]
  },
  {
   "cell_type": "markdown",
   "metadata": {},
   "source": [
    "# Planilhas mês de Março"
   ]
  },
  {
   "cell_type": "code",
   "execution_count": 44,
   "metadata": {},
   "outputs": [],
   "source": [
    "cria_planilha_csv(resultados_emissoes_lab1_marco, \"Resultado_marco_lab1.csv\")"
   ]
  },
  {
   "cell_type": "code",
   "execution_count": 45,
   "metadata": {},
   "outputs": [],
   "source": [
    "cria_planilha_csv(resultados_emissoes_lab2_marco, \"Resultado_marco_lab2.csv\")"
   ]
  },
  {
   "cell_type": "code",
   "execution_count": 46,
   "metadata": {},
   "outputs": [],
   "source": [
    "cria_planilha_csv(resultados_emissoes_lab3_marco, \"Resultado_marco_lab3.csv\")"
   ]
  },
  {
   "cell_type": "markdown",
   "metadata": {},
   "source": [
    "# Planilhas mês de Abril"
   ]
  },
  {
   "cell_type": "code",
   "execution_count": 47,
   "metadata": {},
   "outputs": [],
   "source": [
    "cria_planilha_csv(resultados_emissoes_lab1_abril, \"Resultado_abril_lab1.csv\")"
   ]
  },
  {
   "cell_type": "code",
   "execution_count": 48,
   "metadata": {},
   "outputs": [],
   "source": [
    "cria_planilha_csv(resultados_emissoes_lab2_abril, \"Resultado_abril_lab2.csv\")"
   ]
  },
  {
   "cell_type": "code",
   "execution_count": 49,
   "metadata": {},
   "outputs": [],
   "source": [
    "cria_planilha_csv(resultados_emissoes_lab3_abril, \"Resultado_abril_lab3.csv\")"
   ]
  },
  {
   "cell_type": "markdown",
   "metadata": {},
   "source": [
    "# Planilhas mês de Maio"
   ]
  },
  {
   "cell_type": "code",
   "execution_count": 50,
   "metadata": {},
   "outputs": [],
   "source": [
    "cria_planilha_csv(resultados_emissoes_lab1_maio, \"Resultado_maio_lab1.csv\")"
   ]
  },
  {
   "cell_type": "code",
   "execution_count": 51,
   "metadata": {},
   "outputs": [],
   "source": [
    "cria_planilha_csv(resultados_emissoes_lab2_maio, \"Resultado_maio_lab2.csv\")"
   ]
  },
  {
   "cell_type": "code",
   "execution_count": 52,
   "metadata": {},
   "outputs": [],
   "source": [
    "cria_planilha_csv(resultados_emissoes_lab3_maio, \"Resultado_maio_lab3.csv\")"
   ]
  },
  {
   "cell_type": "markdown",
   "metadata": {},
   "source": [
    "# Planilhas mês de Junho"
   ]
  },
  {
   "cell_type": "code",
   "execution_count": 53,
   "metadata": {},
   "outputs": [],
   "source": [
    "cria_planilha_csv(resultados_emissoes_lab1_junho, \"Resultado_junho_lab1.csv\")"
   ]
  },
  {
   "cell_type": "code",
   "execution_count": 54,
   "metadata": {},
   "outputs": [],
   "source": [
    "cria_planilha_csv(resultados_emissoes_lab2_junho, \"Resultado_junho_lab2.csv\")"
   ]
  },
  {
   "cell_type": "code",
   "execution_count": 55,
   "metadata": {},
   "outputs": [],
   "source": [
    "cria_planilha_csv(resultados_emissoes_lab3_junho, \"Resultado_junho_lab3.csv\")"
   ]
  }
 ],
 "metadata": {
  "kernelspec": {
   "display_name": "Python 3",
   "language": "python",
   "name": "python3"
  },
  "language_info": {
   "codemirror_mode": {
    "name": "ipython",
    "version": 3
   },
   "file_extension": ".py",
   "mimetype": "text/x-python",
   "name": "python",
   "nbconvert_exporter": "python",
   "pygments_lexer": "ipython3",
   "version": "3.13.1"
  }
 },
 "nbformat": 4,
 "nbformat_minor": 2
}
