{
 "cells": [
  {
   "cell_type": "code",
   "execution_count": 1,
   "metadata": {},
   "outputs": [],
   "source": [
    "import pandas as pd"
   ]
  },
  {
   "cell_type": "code",
   "execution_count": 5,
   "metadata": {},
   "outputs": [],
   "source": [
    "pd.set_option(\"display.max_rows\", None)"
   ]
  },
  {
   "cell_type": "code",
   "execution_count": 2,
   "metadata": {},
   "outputs": [],
   "source": [
    "# Parâmetros de horário de busca \n",
    "hora_inicio = 13\n",
    "hora_fim = 19"
   ]
  },
  {
   "cell_type": "code",
   "execution_count": 3,
   "metadata": {},
   "outputs": [],
   "source": [
    "emissao_original = pd.read_csv('D:/Backup - Dev/Artigo/Códigos TCC/Fatores de emissão de carbono.csv') # Carrega a planilha original\n",
    "emissao_copia = emissao_original.copy() # Faz uma cópia para evitar manipular os dados originais"
   ]
  },
  {
   "cell_type": "code",
   "execution_count": 7,
   "metadata": {},
   "outputs": [],
   "source": [
    "# Define os dias letivos com base no calendário para cada mês\n",
    "dias_uteis_por_mes = {\n",
    "    \"Março\": [18, 19, 20, 21, 22, 25, 26, 27, 28],\n",
    "    \"Abril\": [1, 2, 3, 4, 5, 8, 9, 10, 11, 12, 15, 16, 17, 18, 19, 22, 23, 24, 25, 26, 29, 30],\n",
    "    \"Maio\": [2, 3, 6, 7, 8, 9, 10, 13, 14, 15, 16, 17, 20, 21, 22, 23, 24, 27, 28, 29, 31],\n",
    "    \"Junho\": [3, 4, 5, 6, 7, 10, 11, 12, 13, 14, 17, 18, 19, 20, 21, 24, 25, 26, 27, 28]\n",
    "}"
   ]
  },
  {
   "cell_type": "code",
   "execution_count": null,
   "metadata": {},
   "outputs": [],
   "source": [
    "for mes, dias_uteis in dias_uteis_por_mes.items():  # Itera no dict de meses e dias úteis\n",
    "    filtro_horario = (emissao_copia['Hora'] >= hora_inicio) & (emissao_copia['Hora'] <= hora_fim)  # Filtra os horários dentro do intervalo definido \n",
    "    \n",
    "    filtro_dias = emissao_copia['Dia'].isin(dias_uteis)  # Filtra os dias úteis para o mês atual\n",
    "\n",
    "    dados_filtrados = emissao_copia[filtro_horario & filtro_dias].copy()  # Combina os filtros de dias e horários\n",
    "\n",
    "    dados_filtrados[mes] = dados_filtrados[mes].astype(str).str.replace(',', '.') # Substitui vírgulas por pontos na coluna do mês\n",
    "\n",
    "    # Salva o resultado em uma nova planilha csv\n",
    "    caminho_arquivo_saida = f\"D:/Backup - Dev/Artigo/Códigos TCC/Planilhas fator de emissão atualizado/Fator_emissão_{mes}.csv\"\n",
    "    dados_filtrados[['Dia', 'Hora', mes]].to_csv(caminho_arquivo_saida, index=False)"
   ]
  }
 ],
 "metadata": {
  "kernelspec": {
   "display_name": "Python 3",
   "language": "python",
   "name": "python3"
  },
  "language_info": {
   "codemirror_mode": {
    "name": "ipython",
    "version": 3
   },
   "file_extension": ".py",
   "mimetype": "text/x-python",
   "name": "python",
   "nbconvert_exporter": "python",
   "pygments_lexer": "ipython3",
   "version": "3.13.1"
  }
 },
 "nbformat": 4,
 "nbformat_minor": 2
}
