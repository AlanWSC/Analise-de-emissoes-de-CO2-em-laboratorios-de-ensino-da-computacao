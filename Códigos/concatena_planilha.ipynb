{
 "cells": [
  {
   "cell_type": "code",
   "execution_count": 1,
   "metadata": {},
   "outputs": [],
   "source": [
    "import pandas as pd"
   ]
  },
  {
   "cell_type": "code",
   "execution_count": 2,
   "metadata": {},
   "outputs": [],
   "source": [
    "pd.set_option(\"display.max_rows\", None)\n",
    "pd.set_option(\"display.max_columns\", None)"
   ]
  },
  {
   "cell_type": "code",
   "execution_count": 24,
   "metadata": {},
   "outputs": [],
   "source": [
    "lab1 = pd.read_csv('Resultado_junho_lab1.csv')\n",
    "lab2 = pd.read_csv('Resultado_junho_lab2.csv')\n",
    "lab3 = pd.read_csv('Resultado_junho_lab3.csv')"
   ]
  },
  {
   "cell_type": "code",
   "execution_count": 25,
   "metadata": {},
   "outputs": [],
   "source": [
    "lab1.insert(0,'Laboratório','Lab 1')\n",
    "lab2.insert(0,'Laboratório','Lab 2')\n",
    "lab3.insert(0,'Laboratório','Lab 3')"
   ]
  },
  {
   "cell_type": "code",
   "execution_count": 26,
   "metadata": {},
   "outputs": [],
   "source": [
    "lab1.to_csv('Resultado_junho_lab1.csv', index = False)\n",
    "lab2.to_csv('Resultado_junho_lab2.csv', index = False)\n",
    "lab3.to_csv('Resultado_junho_lab3.csv', index = False)"
   ]
  },
  {
   "cell_type": "code",
   "execution_count": 28,
   "metadata": {},
   "outputs": [],
   "source": [
    "dados_labs_junho = pd.concat([lab1, lab2, lab3], ignore_index = True)"
   ]
  },
  {
   "cell_type": "code",
   "execution_count": 29,
   "metadata": {},
   "outputs": [],
   "source": [
    "dados_labs_junho.to_csv('D:/Backup - Dev/Artigo/Códigos TCC/Próxima apresentação/dados_labs_junho.csv', index = False)"
   ]
  }
 ],
 "metadata": {
  "kernelspec": {
   "display_name": "Python 3",
   "language": "python",
   "name": "python3"
  },
  "language_info": {
   "codemirror_mode": {
    "name": "ipython",
    "version": 3
   },
   "file_extension": ".py",
   "mimetype": "text/x-python",
   "name": "python",
   "nbconvert_exporter": "python",
   "pygments_lexer": "ipython3",
   "version": "3.13.1"
  }
 },
 "nbformat": 4,
 "nbformat_minor": 2
}
